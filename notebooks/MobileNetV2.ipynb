{
  "nbformat": 4,
  "nbformat_minor": 0,
  "metadata": {
    "colab": {
      "provenance": [],
      "gpuType": "T4"
    },
    "kernelspec": {
      "name": "python3",
      "display_name": "Python 3"
    },
    "language_info": {
      "name": "python"
    },
    "accelerator": "GPU"
  },
  "cells": [
    {
      "cell_type": "code",
      "execution_count": 1,
      "metadata": {
        "id": "U9dIor7Td4Ov"
      },
      "outputs": [],
      "source": [
        "import os\n",
        "\n",
        "# Imports\n",
        "import numpy as np\n",
        "import pandas as pd\n",
        "\n",
        "# Visualization\n",
        "import matplotlib.pyplot as plt\n",
        "\n",
        "# Tensorflow\n",
        "import tensorflow as tf\n",
        "from tensorflow import keras\n",
        "from tensorflow.keras import callbacks, layers, Model\n",
        "from tensorflow.keras.preprocessing.image import ImageDataGenerator"
      ]
    },
    {
      "cell_type": "code",
      "source": [
        "print(tf. __version__)"
      ],
      "metadata": {
        "colab": {
          "base_uri": "https://localhost:8080/"
        },
        "id": "y0oA6O20MAnX",
        "outputId": "923f9cb2-d231-4d92-fb34-23d6451f4dd8"
      },
      "execution_count": 3,
      "outputs": [
        {
          "output_type": "stream",
          "name": "stdout",
          "text": [
            "2.18.0\n"
          ]
        }
      ]
    },
    {
      "cell_type": "code",
      "source": [
        "image_size = 224\n",
        "target_size = (image_size, image_size)\n",
        "input_shape = (image_size, image_size, 3)\n",
        "grid_shape = (1, image_size, image_size, 3)\n",
        "\n",
        "batch_size = 16"
      ],
      "metadata": {
        "id": "X9kcNa60eRZk"
      },
      "execution_count": 4,
      "outputs": []
    },
    {
      "cell_type": "code",
      "source": [
        "train_dir = '/content/drive/MyDrive/Dataset_Split/train'\n",
        "\n",
        "train_aug = ImageDataGenerator(\n",
        "    # Rescale\n",
        "    rescale=1/255.0,\n",
        "    # Filling for W/H shift\n",
        "    fill_mode=\"nearest\",\n",
        "    # Width and Height shift\n",
        "    width_shift_range=0.2,\n",
        "    height_shift_range=0.2,\n",
        "    # Random zooms\n",
        "    zoom_range=0.2,\n",
        "    # Random Shearing aug\n",
        "    shear_range=0.2,\n",
        ")\n",
        "\n",
        "# Read data from directory\n",
        "train_data = train_aug.flow_from_directory(\n",
        "    train_dir,\n",
        "    target_size=(image_size, image_size),\n",
        "    batch_size=batch_size,\n",
        "    class_mode=\"categorical\"\n",
        ")"
      ],
      "metadata": {
        "colab": {
          "base_uri": "https://localhost:8080/"
        },
        "id": "uzdVN6kHeWVp",
        "outputId": "7b057a97-a0c7-4197-ccba-24c9291be8ac"
      },
      "execution_count": 5,
      "outputs": [
        {
          "output_type": "stream",
          "name": "stdout",
          "text": [
            "Found 24375 images belonging to 55 classes.\n"
          ]
        }
      ]
    },
    {
      "cell_type": "code",
      "source": [
        "test_dir = '/content/drive/MyDrive/Dataset_Split/test'\n",
        "\n",
        "# Augmentations for test data\n",
        "test_aug = ImageDataGenerator(\n",
        "    # Rescale\n",
        "    rescale=1/255.0\n",
        ")\n",
        "\n",
        "# Read data from directory\n",
        "test_data = test_aug.flow_from_directory(\n",
        "    test_dir,\n",
        "    target_size=(image_size, image_size),\n",
        "    batch_size=batch_size,\n",
        "    class_mode=\"categorical\"\n",
        ")"
      ],
      "metadata": {
        "colab": {
          "base_uri": "https://localhost:8080/"
        },
        "id": "C31VPIaFe3X4",
        "outputId": "bc85adfe-5251-44e1-c67d-10d646ab1ce7"
      },
      "execution_count": 13,
      "outputs": [
        {
          "output_type": "stream",
          "name": "stdout",
          "text": [
            "Found 6122 images belonging to 55 classes.\n"
          ]
        }
      ]
    },
    {
      "cell_type": "code",
      "source": [
        "cats = list(train_data.class_indices.keys())"
      ],
      "metadata": {
        "id": "Q5eUq013fMEU"
      },
      "execution_count": 7,
      "outputs": []
    },
    {
      "cell_type": "code",
      "source": [
        "mbnet_v2 = keras.applications.MobileNetV2(\n",
        "    weights=\"imagenet\",\n",
        "    include_top=False,\n",
        "    input_shape=input_shape\n",
        ")\n",
        "\n",
        "# Stop from being trainable\n",
        "mbnet_v2.trainable = False"
      ],
      "metadata": {
        "colab": {
          "base_uri": "https://localhost:8080/"
        },
        "id": "vAADzHoQfB9k",
        "outputId": "8483eba0-73e7-4821-e1f0-2a0b429dfbd7"
      },
      "execution_count": 8,
      "outputs": [
        {
          "output_type": "stream",
          "name": "stdout",
          "text": [
            "Downloading data from https://storage.googleapis.com/tensorflow/keras-applications/mobilenet_v2/mobilenet_v2_weights_tf_dim_ordering_tf_kernels_1.0_224_no_top.h5\n",
            "\u001b[1m9406464/9406464\u001b[0m \u001b[32m━━━━━━━━━━━━━━━━━━━━\u001b[0m\u001b[37m\u001b[0m \u001b[1m0s\u001b[0m 0us/step\n"
          ]
        }
      ]
    },
    {
      "cell_type": "code",
      "source": [
        "inputs = keras.Input(shape=input_shape)\n",
        "\n",
        "# Get the layer\n",
        "x = mbnet_v2(inputs, training = False)\n",
        "\n",
        "# Stack layers further\n",
        "x = tf.keras.layers.GlobalAveragePooling2D()(x)\n",
        "x = tf.keras.layers.Dropout(0.2)(x)\n",
        "x = tf.keras.layers.Dense(len(cats), activation=\"softmax\")(x)\n",
        "\n",
        "# Combine the model\n",
        "model = Model(inputs=inputs, outputs=x)\n",
        "\n",
        "# Summary\n",
        "model.summary()"
      ],
      "metadata": {
        "colab": {
          "base_uri": "https://localhost:8080/",
          "height": 305
        },
        "id": "KcJOfPxtfGyX",
        "outputId": "262a5868-183f-4d3e-befc-6f227dac156f"
      },
      "execution_count": 9,
      "outputs": [
        {
          "output_type": "display_data",
          "data": {
            "text/plain": [
              "\u001b[1mModel: \"functional\"\u001b[0m\n"
            ],
            "text/html": [
              "<pre style=\"white-space:pre;overflow-x:auto;line-height:normal;font-family:Menlo,'DejaVu Sans Mono',consolas,'Courier New',monospace\"><span style=\"font-weight: bold\">Model: \"functional\"</span>\n",
              "</pre>\n"
            ]
          },
          "metadata": {}
        },
        {
          "output_type": "display_data",
          "data": {
            "text/plain": [
              "┏━━━━━━━━━━━━━━━━━━━━━━━━━━━━━━━━━━━━━━┳━━━━━━━━━━━━━━━━━━━━━━━━━━━━━┳━━━━━━━━━━━━━━━━━┓\n",
              "┃\u001b[1m \u001b[0m\u001b[1mLayer (type)                        \u001b[0m\u001b[1m \u001b[0m┃\u001b[1m \u001b[0m\u001b[1mOutput Shape               \u001b[0m\u001b[1m \u001b[0m┃\u001b[1m \u001b[0m\u001b[1m        Param #\u001b[0m\u001b[1m \u001b[0m┃\n",
              "┡━━━━━━━━━━━━━━━━━━━━━━━━━━━━━━━━━━━━━━╇━━━━━━━━━━━━━━━━━━━━━━━━━━━━━╇━━━━━━━━━━━━━━━━━┩\n",
              "│ input_layer_1 (\u001b[38;5;33mInputLayer\u001b[0m)           │ (\u001b[38;5;45mNone\u001b[0m, \u001b[38;5;34m224\u001b[0m, \u001b[38;5;34m224\u001b[0m, \u001b[38;5;34m3\u001b[0m)         │               \u001b[38;5;34m0\u001b[0m │\n",
              "├──────────────────────────────────────┼─────────────────────────────┼─────────────────┤\n",
              "│ mobilenetv2_1.00_224 (\u001b[38;5;33mFunctional\u001b[0m)    │ (\u001b[38;5;45mNone\u001b[0m, \u001b[38;5;34m7\u001b[0m, \u001b[38;5;34m7\u001b[0m, \u001b[38;5;34m1280\u001b[0m)          │       \u001b[38;5;34m2,257,984\u001b[0m │\n",
              "├──────────────────────────────────────┼─────────────────────────────┼─────────────────┤\n",
              "│ global_average_pooling2d             │ (\u001b[38;5;45mNone\u001b[0m, \u001b[38;5;34m1280\u001b[0m)                │               \u001b[38;5;34m0\u001b[0m │\n",
              "│ (\u001b[38;5;33mGlobalAveragePooling2D\u001b[0m)             │                             │                 │\n",
              "├──────────────────────────────────────┼─────────────────────────────┼─────────────────┤\n",
              "│ dropout (\u001b[38;5;33mDropout\u001b[0m)                    │ (\u001b[38;5;45mNone\u001b[0m, \u001b[38;5;34m1280\u001b[0m)                │               \u001b[38;5;34m0\u001b[0m │\n",
              "├──────────────────────────────────────┼─────────────────────────────┼─────────────────┤\n",
              "│ dense (\u001b[38;5;33mDense\u001b[0m)                        │ (\u001b[38;5;45mNone\u001b[0m, \u001b[38;5;34m55\u001b[0m)                  │          \u001b[38;5;34m70,455\u001b[0m │\n",
              "└──────────────────────────────────────┴─────────────────────────────┴─────────────────┘\n"
            ],
            "text/html": [
              "<pre style=\"white-space:pre;overflow-x:auto;line-height:normal;font-family:Menlo,'DejaVu Sans Mono',consolas,'Courier New',monospace\">┏━━━━━━━━━━━━━━━━━━━━━━━━━━━━━━━━━━━━━━┳━━━━━━━━━━━━━━━━━━━━━━━━━━━━━┳━━━━━━━━━━━━━━━━━┓\n",
              "┃<span style=\"font-weight: bold\"> Layer (type)                         </span>┃<span style=\"font-weight: bold\"> Output Shape                </span>┃<span style=\"font-weight: bold\">         Param # </span>┃\n",
              "┡━━━━━━━━━━━━━━━━━━━━━━━━━━━━━━━━━━━━━━╇━━━━━━━━━━━━━━━━━━━━━━━━━━━━━╇━━━━━━━━━━━━━━━━━┩\n",
              "│ input_layer_1 (<span style=\"color: #0087ff; text-decoration-color: #0087ff\">InputLayer</span>)           │ (<span style=\"color: #00d7ff; text-decoration-color: #00d7ff\">None</span>, <span style=\"color: #00af00; text-decoration-color: #00af00\">224</span>, <span style=\"color: #00af00; text-decoration-color: #00af00\">224</span>, <span style=\"color: #00af00; text-decoration-color: #00af00\">3</span>)         │               <span style=\"color: #00af00; text-decoration-color: #00af00\">0</span> │\n",
              "├──────────────────────────────────────┼─────────────────────────────┼─────────────────┤\n",
              "│ mobilenetv2_1.00_224 (<span style=\"color: #0087ff; text-decoration-color: #0087ff\">Functional</span>)    │ (<span style=\"color: #00d7ff; text-decoration-color: #00d7ff\">None</span>, <span style=\"color: #00af00; text-decoration-color: #00af00\">7</span>, <span style=\"color: #00af00; text-decoration-color: #00af00\">7</span>, <span style=\"color: #00af00; text-decoration-color: #00af00\">1280</span>)          │       <span style=\"color: #00af00; text-decoration-color: #00af00\">2,257,984</span> │\n",
              "├──────────────────────────────────────┼─────────────────────────────┼─────────────────┤\n",
              "│ global_average_pooling2d             │ (<span style=\"color: #00d7ff; text-decoration-color: #00d7ff\">None</span>, <span style=\"color: #00af00; text-decoration-color: #00af00\">1280</span>)                │               <span style=\"color: #00af00; text-decoration-color: #00af00\">0</span> │\n",
              "│ (<span style=\"color: #0087ff; text-decoration-color: #0087ff\">GlobalAveragePooling2D</span>)             │                             │                 │\n",
              "├──────────────────────────────────────┼─────────────────────────────┼─────────────────┤\n",
              "│ dropout (<span style=\"color: #0087ff; text-decoration-color: #0087ff\">Dropout</span>)                    │ (<span style=\"color: #00d7ff; text-decoration-color: #00d7ff\">None</span>, <span style=\"color: #00af00; text-decoration-color: #00af00\">1280</span>)                │               <span style=\"color: #00af00; text-decoration-color: #00af00\">0</span> │\n",
              "├──────────────────────────────────────┼─────────────────────────────┼─────────────────┤\n",
              "│ dense (<span style=\"color: #0087ff; text-decoration-color: #0087ff\">Dense</span>)                        │ (<span style=\"color: #00d7ff; text-decoration-color: #00d7ff\">None</span>, <span style=\"color: #00af00; text-decoration-color: #00af00\">55</span>)                  │          <span style=\"color: #00af00; text-decoration-color: #00af00\">70,455</span> │\n",
              "└──────────────────────────────────────┴─────────────────────────────┴─────────────────┘\n",
              "</pre>\n"
            ]
          },
          "metadata": {}
        },
        {
          "output_type": "display_data",
          "data": {
            "text/plain": [
              "\u001b[1m Total params: \u001b[0m\u001b[38;5;34m2,328,439\u001b[0m (8.88 MB)\n"
            ],
            "text/html": [
              "<pre style=\"white-space:pre;overflow-x:auto;line-height:normal;font-family:Menlo,'DejaVu Sans Mono',consolas,'Courier New',monospace\"><span style=\"font-weight: bold\"> Total params: </span><span style=\"color: #00af00; text-decoration-color: #00af00\">2,328,439</span> (8.88 MB)\n",
              "</pre>\n"
            ]
          },
          "metadata": {}
        },
        {
          "output_type": "display_data",
          "data": {
            "text/plain": [
              "\u001b[1m Trainable params: \u001b[0m\u001b[38;5;34m70,455\u001b[0m (275.21 KB)\n"
            ],
            "text/html": [
              "<pre style=\"white-space:pre;overflow-x:auto;line-height:normal;font-family:Menlo,'DejaVu Sans Mono',consolas,'Courier New',monospace\"><span style=\"font-weight: bold\"> Trainable params: </span><span style=\"color: #00af00; text-decoration-color: #00af00\">70,455</span> (275.21 KB)\n",
              "</pre>\n"
            ]
          },
          "metadata": {}
        },
        {
          "output_type": "display_data",
          "data": {
            "text/plain": [
              "\u001b[1m Non-trainable params: \u001b[0m\u001b[38;5;34m2,257,984\u001b[0m (8.61 MB)\n"
            ],
            "text/html": [
              "<pre style=\"white-space:pre;overflow-x:auto;line-height:normal;font-family:Menlo,'DejaVu Sans Mono',consolas,'Courier New',monospace\"><span style=\"font-weight: bold\"> Non-trainable params: </span><span style=\"color: #00af00; text-decoration-color: #00af00\">2,257,984</span> (8.61 MB)\n",
              "</pre>\n"
            ]
          },
          "metadata": {}
        }
      ]
    },
    {
      "cell_type": "code",
      "source": [
        "# Compile\n",
        "model.compile(optimizer=\"adam\", loss=\"categorical_crossentropy\", metrics=[\"accuracy\"])\n",
        "\n",
        "# Define callbacks to use\n",
        "early_stopping_cb = callbacks.EarlyStopping(monitor=\"loss\", patience=3)"
      ],
      "metadata": {
        "id": "QprfLriwfPB4"
      },
      "execution_count": 10,
      "outputs": []
    },
    {
      "cell_type": "code",
      "source": [
        "# Num epochs\n",
        "epochs = 30\n",
        "\n",
        "# Train model\n",
        "history = model.fit(\n",
        "    train_data,\n",
        "    epochs=epochs,\n",
        "    steps_per_epoch=150,\n",
        "    callbacks=[early_stopping_cb]\n",
        ")"
      ],
      "metadata": {
        "colab": {
          "base_uri": "https://localhost:8080/"
        },
        "id": "xRV0dxJDfTsy",
        "outputId": "7829afd8-d13c-4560-d038-e68a63c3912f"
      },
      "execution_count": 11,
      "outputs": [
        {
          "metadata": {
            "tags": null
          },
          "name": "stderr",
          "output_type": "stream",
          "text": [
            "/usr/local/lib/python3.11/dist-packages/keras/src/trainers/data_adapters/py_dataset_adapter.py:121: UserWarning: Your `PyDataset` class should call `super().__init__(**kwargs)` in its constructor. `**kwargs` can include `workers`, `use_multiprocessing`, `max_queue_size`. Do not pass these arguments to `fit()`, as they will be ignored.\n",
            "  self._warn_if_super_not_called()\n"
          ]
        },
        {
          "metadata": {
            "tags": null
          },
          "name": "stdout",
          "output_type": "stream",
          "text": [
            "Epoch 1/30\n",
            "\u001b[1m150/150\u001b[0m \u001b[32m━━━━━━━━━━━━━━━━━━━━\u001b[0m\u001b[37m\u001b[0m \u001b[1m883s\u001b[0m 6s/step - accuracy: 0.2482 - loss: 3.2677\n",
            "Epoch 2/30\n",
            "\u001b[1m150/150\u001b[0m \u001b[32m━━━━━━━━━━━━━━━━━━━━\u001b[0m\u001b[37m\u001b[0m \u001b[1m778s\u001b[0m 5s/step - accuracy: 0.6656 - loss: 1.2397\n",
            "Epoch 3/30\n",
            "\u001b[1m150/150\u001b[0m \u001b[32m━━━━━━━━━━━━━━━━━━━━\u001b[0m\u001b[37m\u001b[0m \u001b[1m722s\u001b[0m 5s/step - accuracy: 0.7211 - loss: 0.9826\n",
            "Epoch 4/30\n",
            "\u001b[1m150/150\u001b[0m \u001b[32m━━━━━━━━━━━━━━━━━━━━\u001b[0m\u001b[37m\u001b[0m \u001b[1m649s\u001b[0m 4s/step - accuracy: 0.7623 - loss: 0.8017\n",
            "Epoch 5/30\n",
            "\u001b[1m150/150\u001b[0m \u001b[32m━━━━━━━━━━━━━━━━━━━━\u001b[0m\u001b[37m\u001b[0m \u001b[1m576s\u001b[0m 4s/step - accuracy: 0.7900 - loss: 0.7058\n",
            "Epoch 6/30\n",
            "\u001b[1m150/150\u001b[0m \u001b[32m━━━━━━━━━━━━━━━━━━━━\u001b[0m\u001b[37m\u001b[0m \u001b[1m529s\u001b[0m 4s/step - accuracy: 0.7955 - loss: 0.6726\n",
            "Epoch 7/30\n",
            "\u001b[1m150/150\u001b[0m \u001b[32m━━━━━━━━━━━━━━━━━━━━\u001b[0m\u001b[37m\u001b[0m \u001b[1m476s\u001b[0m 3s/step - accuracy: 0.8006 - loss: 0.6436\n",
            "Epoch 8/30\n",
            "\u001b[1m150/150\u001b[0m \u001b[32m━━━━━━━━━━━━━━━━━━━━\u001b[0m\u001b[37m\u001b[0m \u001b[1m446s\u001b[0m 3s/step - accuracy: 0.8257 - loss: 0.5746\n",
            "Epoch 9/30\n",
            "\u001b[1m150/150\u001b[0m \u001b[32m━━━━━━━━━━━━━━━━━━━━\u001b[0m\u001b[37m\u001b[0m \u001b[1m407s\u001b[0m 3s/step - accuracy: 0.8243 - loss: 0.5628\n",
            "Epoch 10/30\n",
            "\u001b[1m150/150\u001b[0m \u001b[32m━━━━━━━━━━━━━━━━━━━━\u001b[0m\u001b[37m\u001b[0m \u001b[1m400s\u001b[0m 3s/step - accuracy: 0.8112 - loss: 0.5770\n",
            "Epoch 11/30\n",
            "\u001b[1m150/150\u001b[0m \u001b[32m━━━━━━━━━━━━━━━━━━━━\u001b[0m\u001b[37m\u001b[0m \u001b[1m54s\u001b[0m 347ms/step - accuracy: 0.8119 - loss: 0.6170\n",
            "Epoch 12/30\n"
          ]
        },
        {
          "metadata": {
            "tags": null
          },
          "name": "stderr",
          "output_type": "stream",
          "text": [
            "/usr/local/lib/python3.11/dist-packages/keras/src/trainers/epoch_iterator.py:107: UserWarning: Your input ran out of data; interrupting training. Make sure that your dataset or generator can generate at least `steps_per_epoch * epochs` batches. You may need to use the `.repeat()` function when building your dataset.\n",
            "  self._interrupted_warning()\n"
          ]
        },
        {
          "output_type": "stream",
          "name": "stdout",
          "text": [
            "\u001b[1m150/150\u001b[0m \u001b[32m━━━━━━━━━━━━━━━━━━━━\u001b[0m\u001b[37m\u001b[0m \u001b[1m352s\u001b[0m 2s/step - accuracy: 0.8308 - loss: 0.5353\n",
            "Epoch 13/30\n",
            "\u001b[1m150/150\u001b[0m \u001b[32m━━━━━━━━━━━━━━━━━━━━\u001b[0m\u001b[37m\u001b[0m \u001b[1m314s\u001b[0m 2s/step - accuracy: 0.8414 - loss: 0.4841\n",
            "Epoch 14/30\n",
            "\u001b[1m150/150\u001b[0m \u001b[32m━━━━━━━━━━━━━━━━━━━━\u001b[0m\u001b[37m\u001b[0m \u001b[1m296s\u001b[0m 2s/step - accuracy: 0.8779 - loss: 0.4253\n",
            "Epoch 15/30\n",
            "\u001b[1m150/150\u001b[0m \u001b[32m━━━━━━━━━━━━━━━━━━━━\u001b[0m\u001b[37m\u001b[0m \u001b[1m282s\u001b[0m 2s/step - accuracy: 0.8358 - loss: 0.4977\n",
            "Epoch 16/30\n",
            "\u001b[1m150/150\u001b[0m \u001b[32m━━━━━━━━━━━━━━━━━━━━\u001b[0m\u001b[37m\u001b[0m \u001b[1m251s\u001b[0m 2s/step - accuracy: 0.8719 - loss: 0.4464\n",
            "Epoch 17/30\n",
            "\u001b[1m150/150\u001b[0m \u001b[32m━━━━━━━━━━━━━━━━━━━━\u001b[0m\u001b[37m\u001b[0m \u001b[1m243s\u001b[0m 2s/step - accuracy: 0.8658 - loss: 0.4230\n",
            "Epoch 18/30\n",
            "\u001b[1m150/150\u001b[0m \u001b[32m━━━━━━━━━━━━━━━━━━━━\u001b[0m\u001b[37m\u001b[0m \u001b[1m234s\u001b[0m 2s/step - accuracy: 0.8583 - loss: 0.4482\n",
            "Epoch 19/30\n",
            "\u001b[1m150/150\u001b[0m \u001b[32m━━━━━━━━━━━━━━━━━━━━\u001b[0m\u001b[37m\u001b[0m \u001b[1m216s\u001b[0m 1s/step - accuracy: 0.8830 - loss: 0.3965\n",
            "Epoch 20/30\n",
            "\u001b[1m150/150\u001b[0m \u001b[32m━━━━━━━━━━━━━━━━━━━━\u001b[0m\u001b[37m\u001b[0m \u001b[1m204s\u001b[0m 1s/step - accuracy: 0.8732 - loss: 0.4309\n",
            "Epoch 21/30\n",
            "\u001b[1m150/150\u001b[0m \u001b[32m━━━━━━━━━━━━━━━━━━━━\u001b[0m\u001b[37m\u001b[0m \u001b[1m206s\u001b[0m 1s/step - accuracy: 0.8607 - loss: 0.4657\n",
            "Epoch 22/30\n",
            "\u001b[1m150/150\u001b[0m \u001b[32m━━━━━━━━━━━━━━━━━━━━\u001b[0m\u001b[37m\u001b[0m \u001b[1m29s\u001b[0m 184ms/step - accuracy: 0.8604 - loss: 0.4304\n",
            "Epoch 23/30\n",
            "\u001b[1m150/150\u001b[0m \u001b[32m━━━━━━━━━━━━━━━━━━━━\u001b[0m\u001b[37m\u001b[0m \u001b[1m217s\u001b[0m 1s/step - accuracy: 0.8535 - loss: 0.4436\n",
            "Epoch 24/30\n",
            "\u001b[1m150/150\u001b[0m \u001b[32m━━━━━━━━━━━━━━━━━━━━\u001b[0m\u001b[37m\u001b[0m \u001b[1m172s\u001b[0m 1s/step - accuracy: 0.8608 - loss: 0.4391\n",
            "Epoch 25/30\n",
            "\u001b[1m150/150\u001b[0m \u001b[32m━━━━━━━━━━━━━━━━━━━━\u001b[0m\u001b[37m\u001b[0m \u001b[1m174s\u001b[0m 1s/step - accuracy: 0.8681 - loss: 0.4264\n"
          ]
        }
      ]
    },
    {
      "cell_type": "code",
      "source": [
        "model.evaluate(test_data)"
      ],
      "metadata": {
        "colab": {
          "base_uri": "https://localhost:8080/"
        },
        "id": "JcI93ss3jNTd",
        "outputId": "950f4f2d-285b-4b4e-91a7-8d95bc62b894"
      },
      "execution_count": 14,
      "outputs": [
        {
          "output_type": "stream",
          "name": "stdout",
          "text": [
            "\u001b[1m383/383\u001b[0m \u001b[32m━━━━━━━━━━━━━━━━━━━━\u001b[0m\u001b[37m\u001b[0m \u001b[1m1504s\u001b[0m 4s/step - accuracy: 0.8591 - loss: 0.4415\n"
          ]
        },
        {
          "output_type": "execute_result",
          "data": {
            "text/plain": [
              "[0.43333980441093445, 0.861973226070404]"
            ]
          },
          "metadata": {},
          "execution_count": 14
        }
      ]
    },
    {
      "cell_type": "code",
      "source": [
        "model.save(\"Mobile_Net_trained.h5\")"
      ],
      "metadata": {
        "colab": {
          "base_uri": "https://localhost:8080/"
        },
        "id": "0ZbSkLytjORS",
        "outputId": "f4244e11-6492-48fb-a961-13ad641d6042"
      },
      "execution_count": 15,
      "outputs": [
        {
          "output_type": "stream",
          "name": "stderr",
          "text": [
            "WARNING:absl:You are saving your model as an HDF5 file via `model.save()` or `keras.saving.save_model(model)`. This file format is considered legacy. We recommend using instead the native Keras format, e.g. `model.save('my_model.keras')` or `keras.saving.save_model(model, 'my_model.keras')`. \n"
          ]
        }
      ]
    },
    {
      "cell_type": "code",
      "source": [
        "model.save('Mobile_Net_trained.keras')"
      ],
      "metadata": {
        "id": "C8tKEX_y2_Zg"
      },
      "execution_count": 16,
      "outputs": []
    },
    {
      "cell_type": "code",
      "source": [
        "hist = history.history\n",
        "\n",
        "plt.plot(hist[\"accuracy\"], label=\"accuracy\")\n",
        "plt.plot(hist[\"loss\"], label=\"loss\")\n",
        "\n",
        "if \"val_accuracy\" in hist and \"val_loss\" in hist:\n",
        "    plt.plot(hist[\"val_accuracy\"], label=\"val_accuracy\")\n",
        "    plt.plot(hist[\"val_loss\"], label=\"val_loss\")\n",
        "\n",
        "plt.ylabel(\"Accuracy / Loss\")\n",
        "plt.xlabel(\"Epochs #\")\n",
        "plt.legend()\n",
        "\n",
        "plt.show()"
      ],
      "metadata": {
        "id": "H7dRT1v4jXSK"
      },
      "execution_count": null,
      "outputs": []
    },
    {
      "cell_type": "code",
      "source": [
        "converter = tf.lite.TFLiteConverter.from_keras_model(model)\n",
        "tflite_model = converter.convert()\n",
        "\n",
        "with open(\"Mobile_Net_trained.tflite\", \"wb\") as f:\n",
        "    f.write(tflite_model)\n",
        "\n",
        "print(\"TFLite model saved successfully!\")"
      ],
      "metadata": {
        "colab": {
          "base_uri": "https://localhost:8080/"
        },
        "id": "dI0do5GyDvhn",
        "outputId": "adc11d8c-06d7-4fd7-c9a9-e5c10a0b3e3b"
      },
      "execution_count": 17,
      "outputs": [
        {
          "output_type": "stream",
          "name": "stdout",
          "text": [
            "Saved artifact at '/tmp/tmpuool_62i'. The following endpoints are available:\n",
            "\n",
            "* Endpoint 'serve'\n",
            "  args_0 (POSITIONAL_ONLY): TensorSpec(shape=(None, 224, 224, 3), dtype=tf.float32, name='keras_tensor_154')\n",
            "Output Type:\n",
            "  TensorSpec(shape=(None, 55), dtype=tf.float32, name=None)\n",
            "Captures:\n",
            "  138199142323152: TensorSpec(shape=(), dtype=tf.resource, name=None)\n",
            "  138199142322384: TensorSpec(shape=(), dtype=tf.resource, name=None)\n",
            "  138199142325264: TensorSpec(shape=(), dtype=tf.resource, name=None)\n",
            "  138199142324880: TensorSpec(shape=(), dtype=tf.resource, name=None)\n",
            "  138199142323728: TensorSpec(shape=(), dtype=tf.resource, name=None)\n",
            "  138199142325456: TensorSpec(shape=(), dtype=tf.resource, name=None)\n",
            "  138199142324496: TensorSpec(shape=(), dtype=tf.resource, name=None)\n",
            "  138199142322768: TensorSpec(shape=(), dtype=tf.resource, name=None)\n",
            "  138199142325648: TensorSpec(shape=(), dtype=tf.resource, name=None)\n",
            "  138199142323344: TensorSpec(shape=(), dtype=tf.resource, name=None)\n",
            "  138199142326032: TensorSpec(shape=(), dtype=tf.resource, name=None)\n",
            "  138199142327568: TensorSpec(shape=(), dtype=tf.resource, name=None)\n",
            "  138199142324304: TensorSpec(shape=(), dtype=tf.resource, name=None)\n",
            "  138199142324112: TensorSpec(shape=(), dtype=tf.resource, name=None)\n",
            "  138199142326608: TensorSpec(shape=(), dtype=tf.resource, name=None)\n",
            "  138199142329488: TensorSpec(shape=(), dtype=tf.resource, name=None)\n",
            "  138199142331408: TensorSpec(shape=(), dtype=tf.resource, name=None)\n",
            "  138199142330064: TensorSpec(shape=(), dtype=tf.resource, name=None)\n",
            "  138199142330448: TensorSpec(shape=(), dtype=tf.resource, name=None)\n",
            "  138199142329296: TensorSpec(shape=(), dtype=tf.resource, name=None)\n",
            "  138199142332944: TensorSpec(shape=(), dtype=tf.resource, name=None)\n",
            "  138199142334096: TensorSpec(shape=(), dtype=tf.resource, name=None)\n",
            "  138199142330640: TensorSpec(shape=(), dtype=tf.resource, name=None)\n",
            "  138199142333136: TensorSpec(shape=(), dtype=tf.resource, name=None)\n",
            "  138199142331792: TensorSpec(shape=(), dtype=tf.resource, name=None)\n",
            "  138199142333520: TensorSpec(shape=(), dtype=tf.resource, name=None)\n",
            "  138199114974416: TensorSpec(shape=(), dtype=tf.resource, name=None)\n",
            "  138199114973456: TensorSpec(shape=(), dtype=tf.resource, name=None)\n",
            "  138199114974224: TensorSpec(shape=(), dtype=tf.resource, name=None)\n",
            "  138199114973264: TensorSpec(shape=(), dtype=tf.resource, name=None)\n",
            "  138199114975952: TensorSpec(shape=(), dtype=tf.resource, name=None)\n",
            "  138199114976336: TensorSpec(shape=(), dtype=tf.resource, name=None)\n",
            "  138199114976720: TensorSpec(shape=(), dtype=tf.resource, name=None)\n",
            "  138199114976528: TensorSpec(shape=(), dtype=tf.resource, name=None)\n",
            "  138199114973648: TensorSpec(shape=(), dtype=tf.resource, name=None)\n",
            "  138199114977872: TensorSpec(shape=(), dtype=tf.resource, name=None)\n",
            "  138199114978256: TensorSpec(shape=(), dtype=tf.resource, name=None)\n",
            "  138199114978640: TensorSpec(shape=(), dtype=tf.resource, name=None)\n",
            "  138199114978448: TensorSpec(shape=(), dtype=tf.resource, name=None)\n",
            "  138199114974800: TensorSpec(shape=(), dtype=tf.resource, name=None)\n",
            "  138199114975568: TensorSpec(shape=(), dtype=tf.resource, name=None)\n",
            "  138199114980368: TensorSpec(shape=(), dtype=tf.resource, name=None)\n",
            "  138199114980752: TensorSpec(shape=(), dtype=tf.resource, name=None)\n",
            "  138199114980560: TensorSpec(shape=(), dtype=tf.resource, name=None)\n",
            "  138199114977104: TensorSpec(shape=(), dtype=tf.resource, name=None)\n",
            "  138199114979408: TensorSpec(shape=(), dtype=tf.resource, name=None)\n",
            "  138199114982480: TensorSpec(shape=(), dtype=tf.resource, name=None)\n",
            "  138199114982864: TensorSpec(shape=(), dtype=tf.resource, name=None)\n",
            "  138199114982672: TensorSpec(shape=(), dtype=tf.resource, name=None)\n",
            "  138199114979792: TensorSpec(shape=(), dtype=tf.resource, name=None)\n",
            "  138199114984016: TensorSpec(shape=(), dtype=tf.resource, name=None)\n",
            "  138199114984400: TensorSpec(shape=(), dtype=tf.resource, name=None)\n",
            "  138199114984784: TensorSpec(shape=(), dtype=tf.resource, name=None)\n",
            "  138199114984592: TensorSpec(shape=(), dtype=tf.resource, name=None)\n",
            "  138199114981520: TensorSpec(shape=(), dtype=tf.resource, name=None)\n",
            "  138199114985936: TensorSpec(shape=(), dtype=tf.resource, name=None)\n",
            "  138199114986320: TensorSpec(shape=(), dtype=tf.resource, name=None)\n",
            "  138199114986704: TensorSpec(shape=(), dtype=tf.resource, name=None)\n",
            "  138199114986512: TensorSpec(shape=(), dtype=tf.resource, name=None)\n",
            "  138199114982096: TensorSpec(shape=(), dtype=tf.resource, name=None)\n",
            "  138199114987856: TensorSpec(shape=(), dtype=tf.resource, name=None)\n",
            "  138199114988240: TensorSpec(shape=(), dtype=tf.resource, name=None)\n",
            "  138199114988624: TensorSpec(shape=(), dtype=tf.resource, name=None)\n",
            "  138199114988432: TensorSpec(shape=(), dtype=tf.resource, name=None)\n",
            "  138199114983632: TensorSpec(shape=(), dtype=tf.resource, name=None)\n",
            "  138199114987088: TensorSpec(shape=(), dtype=tf.resource, name=None)\n",
            "  138199115352208: TensorSpec(shape=(), dtype=tf.resource, name=None)\n",
            "  138199115352592: TensorSpec(shape=(), dtype=tf.resource, name=None)\n",
            "  138199115351440: TensorSpec(shape=(), dtype=tf.resource, name=None)\n",
            "  138199115351824: TensorSpec(shape=(), dtype=tf.resource, name=None)\n",
            "  138199114989392: TensorSpec(shape=(), dtype=tf.resource, name=None)\n",
            "  138199115350480: TensorSpec(shape=(), dtype=tf.resource, name=None)\n",
            "  138199115352016: TensorSpec(shape=(), dtype=tf.resource, name=None)\n",
            "  138199114985552: TensorSpec(shape=(), dtype=tf.resource, name=None)\n",
            "  138199115352784: TensorSpec(shape=(), dtype=tf.resource, name=None)\n",
            "  138199115354512: TensorSpec(shape=(), dtype=tf.resource, name=None)\n",
            "  138199115354128: TensorSpec(shape=(), dtype=tf.resource, name=None)\n",
            "  138199115354896: TensorSpec(shape=(), dtype=tf.resource, name=None)\n",
            "  138199115353552: TensorSpec(shape=(), dtype=tf.resource, name=None)\n",
            "  138199115354704: TensorSpec(shape=(), dtype=tf.resource, name=None)\n",
            "  138199115356048: TensorSpec(shape=(), dtype=tf.resource, name=None)\n",
            "  138199115356432: TensorSpec(shape=(), dtype=tf.resource, name=None)\n",
            "  138199115356816: TensorSpec(shape=(), dtype=tf.resource, name=None)\n",
            "  138199115356624: TensorSpec(shape=(), dtype=tf.resource, name=None)\n",
            "  138199115350864: TensorSpec(shape=(), dtype=tf.resource, name=None)\n",
            "  138199115357968: TensorSpec(shape=(), dtype=tf.resource, name=None)\n",
            "  138199115358352: TensorSpec(shape=(), dtype=tf.resource, name=None)\n",
            "  138199115358736: TensorSpec(shape=(), dtype=tf.resource, name=None)\n",
            "  138199115358544: TensorSpec(shape=(), dtype=tf.resource, name=None)\n",
            "  138199115353168: TensorSpec(shape=(), dtype=tf.resource, name=None)\n",
            "  138199115359888: TensorSpec(shape=(), dtype=tf.resource, name=None)\n",
            "  138199115360272: TensorSpec(shape=(), dtype=tf.resource, name=None)\n",
            "  138199115360656: TensorSpec(shape=(), dtype=tf.resource, name=None)\n",
            "  138199115360464: TensorSpec(shape=(), dtype=tf.resource, name=None)\n",
            "  138199115355664: TensorSpec(shape=(), dtype=tf.resource, name=None)\n",
            "  138199115361808: TensorSpec(shape=(), dtype=tf.resource, name=None)\n",
            "  138199115362192: TensorSpec(shape=(), dtype=tf.resource, name=None)\n",
            "  138199115362576: TensorSpec(shape=(), dtype=tf.resource, name=None)\n",
            "  138199115362384: TensorSpec(shape=(), dtype=tf.resource, name=None)\n",
            "  138199115357584: TensorSpec(shape=(), dtype=tf.resource, name=None)\n",
            "  138199115363728: TensorSpec(shape=(), dtype=tf.resource, name=None)\n",
            "  138199115364112: TensorSpec(shape=(), dtype=tf.resource, name=None)\n",
            "  138199115364496: TensorSpec(shape=(), dtype=tf.resource, name=None)\n",
            "  138199115364304: TensorSpec(shape=(), dtype=tf.resource, name=None)\n",
            "  138199115359504: TensorSpec(shape=(), dtype=tf.resource, name=None)\n",
            "  138199115365648: TensorSpec(shape=(), dtype=tf.resource, name=None)\n",
            "  138199115366224: TensorSpec(shape=(), dtype=tf.resource, name=None)\n",
            "  138199115364880: TensorSpec(shape=(), dtype=tf.resource, name=None)\n",
            "  138199115366032: TensorSpec(shape=(), dtype=tf.resource, name=None)\n",
            "  138199115363344: TensorSpec(shape=(), dtype=tf.resource, name=None)\n",
            "  138199113695504: TensorSpec(shape=(), dtype=tf.resource, name=None)\n",
            "  138199113696848: TensorSpec(shape=(), dtype=tf.resource, name=None)\n",
            "  138199113697232: TensorSpec(shape=(), dtype=tf.resource, name=None)\n",
            "  138199113697040: TensorSpec(shape=(), dtype=tf.resource, name=None)\n",
            "  138199113696464: TensorSpec(shape=(), dtype=tf.resource, name=None)\n",
            "  138199113698384: TensorSpec(shape=(), dtype=tf.resource, name=None)\n",
            "  138199113698768: TensorSpec(shape=(), dtype=tf.resource, name=None)\n",
            "  138199113699152: TensorSpec(shape=(), dtype=tf.resource, name=None)\n",
            "  138199113698960: TensorSpec(shape=(), dtype=tf.resource, name=None)\n",
            "  138199113695696: TensorSpec(shape=(), dtype=tf.resource, name=None)\n",
            "  138199113700304: TensorSpec(shape=(), dtype=tf.resource, name=None)\n",
            "  138199113700688: TensorSpec(shape=(), dtype=tf.resource, name=None)\n",
            "  138199113701072: TensorSpec(shape=(), dtype=tf.resource, name=None)\n",
            "  138199113700880: TensorSpec(shape=(), dtype=tf.resource, name=None)\n",
            "  138199113695888: TensorSpec(shape=(), dtype=tf.resource, name=None)\n",
            "  138199113702224: TensorSpec(shape=(), dtype=tf.resource, name=None)\n",
            "  138199113702608: TensorSpec(shape=(), dtype=tf.resource, name=None)\n",
            "  138199113702992: TensorSpec(shape=(), dtype=tf.resource, name=None)\n",
            "  138199113702800: TensorSpec(shape=(), dtype=tf.resource, name=None)\n",
            "  138199113698000: TensorSpec(shape=(), dtype=tf.resource, name=None)\n",
            "  138199113704144: TensorSpec(shape=(), dtype=tf.resource, name=None)\n",
            "  138199113704528: TensorSpec(shape=(), dtype=tf.resource, name=None)\n",
            "  138199113704912: TensorSpec(shape=(), dtype=tf.resource, name=None)\n",
            "  138199113704720: TensorSpec(shape=(), dtype=tf.resource, name=None)\n",
            "  138199113699920: TensorSpec(shape=(), dtype=tf.resource, name=None)\n",
            "  138199113706064: TensorSpec(shape=(), dtype=tf.resource, name=None)\n",
            "  138199113706448: TensorSpec(shape=(), dtype=tf.resource, name=None)\n",
            "  138199113706832: TensorSpec(shape=(), dtype=tf.resource, name=None)\n",
            "  138199113706640: TensorSpec(shape=(), dtype=tf.resource, name=None)\n",
            "  138199113701840: TensorSpec(shape=(), dtype=tf.resource, name=None)\n",
            "  138199113707984: TensorSpec(shape=(), dtype=tf.resource, name=None)\n",
            "  138199113708368: TensorSpec(shape=(), dtype=tf.resource, name=None)\n",
            "  138199113708752: TensorSpec(shape=(), dtype=tf.resource, name=None)\n",
            "  138199113708560: TensorSpec(shape=(), dtype=tf.resource, name=None)\n",
            "  138199113703760: TensorSpec(shape=(), dtype=tf.resource, name=None)\n",
            "  138199113709904: TensorSpec(shape=(), dtype=tf.resource, name=None)\n",
            "  138199113710288: TensorSpec(shape=(), dtype=tf.resource, name=None)\n",
            "  138199113710672: TensorSpec(shape=(), dtype=tf.resource, name=None)\n",
            "  138199113710480: TensorSpec(shape=(), dtype=tf.resource, name=None)\n",
            "  138199113705680: TensorSpec(shape=(), dtype=tf.resource, name=None)\n",
            "  138199113709136: TensorSpec(shape=(), dtype=tf.resource, name=None)\n",
            "  138199114088720: TensorSpec(shape=(), dtype=tf.resource, name=None)\n",
            "  138199114089488: TensorSpec(shape=(), dtype=tf.resource, name=None)\n",
            "  138199113711440: TensorSpec(shape=(), dtype=tf.resource, name=None)\n",
            "  138199113707600: TensorSpec(shape=(), dtype=tf.resource, name=None)\n",
            "  138199114090640: TensorSpec(shape=(), dtype=tf.resource, name=None)\n",
            "  138199114091024: TensorSpec(shape=(), dtype=tf.resource, name=None)\n",
            "  138199114091408: TensorSpec(shape=(), dtype=tf.resource, name=None)\n",
            "  138199114091216: TensorSpec(shape=(), dtype=tf.resource, name=None)\n",
            "  138199114089296: TensorSpec(shape=(), dtype=tf.resource, name=None)\n",
            "  138199114092560: TensorSpec(shape=(), dtype=tf.resource, name=None)\n",
            "  138199114092944: TensorSpec(shape=(), dtype=tf.resource, name=None)\n",
            "  138199114093328: TensorSpec(shape=(), dtype=tf.resource, name=None)\n",
            "  138199114093136: TensorSpec(shape=(), dtype=tf.resource, name=None)\n",
            "  138199114088528: TensorSpec(shape=(), dtype=tf.resource, name=None)\n",
            "  138199114094480: TensorSpec(shape=(), dtype=tf.resource, name=None)\n",
            "  138199114094864: TensorSpec(shape=(), dtype=tf.resource, name=None)\n",
            "  138199114095248: TensorSpec(shape=(), dtype=tf.resource, name=None)\n",
            "  138199114095056: TensorSpec(shape=(), dtype=tf.resource, name=None)\n",
            "  138199114090256: TensorSpec(shape=(), dtype=tf.resource, name=None)\n",
            "  138199114096400: TensorSpec(shape=(), dtype=tf.resource, name=None)\n",
            "  138199114096784: TensorSpec(shape=(), dtype=tf.resource, name=None)\n",
            "  138199114097168: TensorSpec(shape=(), dtype=tf.resource, name=None)\n",
            "  138199114096976: TensorSpec(shape=(), dtype=tf.resource, name=None)\n",
            "  138199114092176: TensorSpec(shape=(), dtype=tf.resource, name=None)\n",
            "  138199114098320: TensorSpec(shape=(), dtype=tf.resource, name=None)\n",
            "  138199114098704: TensorSpec(shape=(), dtype=tf.resource, name=None)\n",
            "  138199114099088: TensorSpec(shape=(), dtype=tf.resource, name=None)\n",
            "  138199114098896: TensorSpec(shape=(), dtype=tf.resource, name=None)\n",
            "  138199114094096: TensorSpec(shape=(), dtype=tf.resource, name=None)\n",
            "  138199114100240: TensorSpec(shape=(), dtype=tf.resource, name=None)\n",
            "  138199114100624: TensorSpec(shape=(), dtype=tf.resource, name=None)\n",
            "  138199114101008: TensorSpec(shape=(), dtype=tf.resource, name=None)\n",
            "  138199114100816: TensorSpec(shape=(), dtype=tf.resource, name=None)\n",
            "  138199114096016: TensorSpec(shape=(), dtype=tf.resource, name=None)\n",
            "  138199114102160: TensorSpec(shape=(), dtype=tf.resource, name=None)\n",
            "  138199114102544: TensorSpec(shape=(), dtype=tf.resource, name=None)\n",
            "  138199114102928: TensorSpec(shape=(), dtype=tf.resource, name=None)\n",
            "  138199114102736: TensorSpec(shape=(), dtype=tf.resource, name=None)\n",
            "  138199114097936: TensorSpec(shape=(), dtype=tf.resource, name=None)\n",
            "  138199114104080: TensorSpec(shape=(), dtype=tf.resource, name=None)\n",
            "  138199114104656: TensorSpec(shape=(), dtype=tf.resource, name=None)\n",
            "  138199114103312: TensorSpec(shape=(), dtype=tf.resource, name=None)\n",
            "  138199114104464: TensorSpec(shape=(), dtype=tf.resource, name=None)\n",
            "  138199114101776: TensorSpec(shape=(), dtype=tf.resource, name=None)\n",
            "  138199112384784: TensorSpec(shape=(), dtype=tf.resource, name=None)\n",
            "  138199112386128: TensorSpec(shape=(), dtype=tf.resource, name=None)\n",
            "  138199112386512: TensorSpec(shape=(), dtype=tf.resource, name=None)\n",
            "  138199112386320: TensorSpec(shape=(), dtype=tf.resource, name=None)\n",
            "  138199112384976: TensorSpec(shape=(), dtype=tf.resource, name=None)\n",
            "  138199112387664: TensorSpec(shape=(), dtype=tf.resource, name=None)\n",
            "  138199112388048: TensorSpec(shape=(), dtype=tf.resource, name=None)\n",
            "  138199112388432: TensorSpec(shape=(), dtype=tf.resource, name=None)\n",
            "  138199112388240: TensorSpec(shape=(), dtype=tf.resource, name=None)\n",
            "  138199112385552: TensorSpec(shape=(), dtype=tf.resource, name=None)\n",
            "  138199112389584: TensorSpec(shape=(), dtype=tf.resource, name=None)\n",
            "  138199112389968: TensorSpec(shape=(), dtype=tf.resource, name=None)\n",
            "  138199112390352: TensorSpec(shape=(), dtype=tf.resource, name=None)\n",
            "  138199112390160: TensorSpec(shape=(), dtype=tf.resource, name=None)\n",
            "  138199112385744: TensorSpec(shape=(), dtype=tf.resource, name=None)\n",
            "  138199112391504: TensorSpec(shape=(), dtype=tf.resource, name=None)\n",
            "  138199112391888: TensorSpec(shape=(), dtype=tf.resource, name=None)\n",
            "  138199112392272: TensorSpec(shape=(), dtype=tf.resource, name=None)\n",
            "  138199112392080: TensorSpec(shape=(), dtype=tf.resource, name=None)\n",
            "  138199112387280: TensorSpec(shape=(), dtype=tf.resource, name=None)\n",
            "  138199112393424: TensorSpec(shape=(), dtype=tf.resource, name=None)\n",
            "  138199112393808: TensorSpec(shape=(), dtype=tf.resource, name=None)\n",
            "  138199112394192: TensorSpec(shape=(), dtype=tf.resource, name=None)\n",
            "  138199112394000: TensorSpec(shape=(), dtype=tf.resource, name=None)\n",
            "  138199112389200: TensorSpec(shape=(), dtype=tf.resource, name=None)\n",
            "  138199112395344: TensorSpec(shape=(), dtype=tf.resource, name=None)\n",
            "  138199112395728: TensorSpec(shape=(), dtype=tf.resource, name=None)\n",
            "  138199112396112: TensorSpec(shape=(), dtype=tf.resource, name=None)\n",
            "  138199112395920: TensorSpec(shape=(), dtype=tf.resource, name=None)\n",
            "  138199112391120: TensorSpec(shape=(), dtype=tf.resource, name=None)\n",
            "  138199112397264: TensorSpec(shape=(), dtype=tf.resource, name=None)\n",
            "  138199112397648: TensorSpec(shape=(), dtype=tf.resource, name=None)\n",
            "  138199112398032: TensorSpec(shape=(), dtype=tf.resource, name=None)\n",
            "  138199112397840: TensorSpec(shape=(), dtype=tf.resource, name=None)\n",
            "  138199112393040: TensorSpec(shape=(), dtype=tf.resource, name=None)\n",
            "  138199112399184: TensorSpec(shape=(), dtype=tf.resource, name=None)\n",
            "  138199112399568: TensorSpec(shape=(), dtype=tf.resource, name=None)\n",
            "  138199112399952: TensorSpec(shape=(), dtype=tf.resource, name=None)\n",
            "  138199112399760: TensorSpec(shape=(), dtype=tf.resource, name=None)\n",
            "  138199112394960: TensorSpec(shape=(), dtype=tf.resource, name=None)\n",
            "  138199112398416: TensorSpec(shape=(), dtype=tf.resource, name=None)\n",
            "  138199112795344: TensorSpec(shape=(), dtype=tf.resource, name=None)\n",
            "  138199112794384: TensorSpec(shape=(), dtype=tf.resource, name=None)\n",
            "  138199112400720: TensorSpec(shape=(), dtype=tf.resource, name=None)\n",
            "  138199112396880: TensorSpec(shape=(), dtype=tf.resource, name=None)\n",
            "  138199112796304: TensorSpec(shape=(), dtype=tf.resource, name=None)\n",
            "  138199112796688: TensorSpec(shape=(), dtype=tf.resource, name=None)\n",
            "  138199112797072: TensorSpec(shape=(), dtype=tf.resource, name=None)\n",
            "  138199112796880: TensorSpec(shape=(), dtype=tf.resource, name=None)\n",
            "  138199112794768: TensorSpec(shape=(), dtype=tf.resource, name=None)\n",
            "  138199112798224: TensorSpec(shape=(), dtype=tf.resource, name=None)\n",
            "  138199112798608: TensorSpec(shape=(), dtype=tf.resource, name=None)\n",
            "  138199112798992: TensorSpec(shape=(), dtype=tf.resource, name=None)\n",
            "  138199112798800: TensorSpec(shape=(), dtype=tf.resource, name=None)\n",
            "  138199112795536: TensorSpec(shape=(), dtype=tf.resource, name=None)\n",
            "  138199112800144: TensorSpec(shape=(), dtype=tf.resource, name=None)\n",
            "  138199112800528: TensorSpec(shape=(), dtype=tf.resource, name=None)\n",
            "  138199112800912: TensorSpec(shape=(), dtype=tf.resource, name=None)\n",
            "  138199112800720: TensorSpec(shape=(), dtype=tf.resource, name=None)\n",
            "  138199112795920: TensorSpec(shape=(), dtype=tf.resource, name=None)\n",
            "  138199112802064: TensorSpec(shape=(), dtype=tf.resource, name=None)\n",
            "  138199112802448: TensorSpec(shape=(), dtype=tf.resource, name=None)\n",
            "  138199112802832: TensorSpec(shape=(), dtype=tf.resource, name=None)\n",
            "  138199112802640: TensorSpec(shape=(), dtype=tf.resource, name=None)\n",
            "  138199112797840: TensorSpec(shape=(), dtype=tf.resource, name=None)\n",
            "  138199112804368: TensorSpec(shape=(), dtype=tf.resource, name=None)\n",
            "  138199112805904: TensorSpec(shape=(), dtype=tf.resource, name=None)\n",
            "TFLite model saved successfully!\n"
          ]
        }
      ]
    }
  ]
}